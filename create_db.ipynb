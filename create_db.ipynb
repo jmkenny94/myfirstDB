{
 "cells": [
  {
   "cell_type": "code",
   "execution_count": null,
   "metadata": {},
   "outputs": [],
   "source": [
    "# Import libs\n",
    "\n",
    "import psycopg2\n",
    "import pandas as pd\n",
    "import numpy as np"
   ]
  },
  {
   "cell_type": "code",
   "execution_count": null,
   "metadata": {},
   "outputs": [],
   "source": [
    "def create_database():\n",
    "    #connect to default database\n",
    "    conn = psycopg2.connect(\"host=127.0.0.1 dbname = postgres user = postgres password = torontoraptors\")\n",
    "    conn.set_session(autocommit=True)\n",
    "    cur = conn.cursor()\n",
    "\n",
    "    # Create Sparkify database with UTF8 encoding \n",
    "    cur.execute(\"DROP DATABASE IF EXISTS countries\")\n",
    "    cur.execute(\"CREATE DATABASE countries\")\n",
    "\n",
    "    #Close connection to default database \n",
    "    conn.close()\n",
    "\n",
    "    #Connect to sparkify database\n",
    "    conn = psycopg2.connect(\"host=127.0.0.1 dbname = countries user = postgres password = torontoraptors\")\n",
    "    cur = conn.cursor()\n",
    "\n",
    "    return cur, conn\n",
    "\n"
   ]
  },
  {
   "cell_type": "code",
   "execution_count": null,
   "metadata": {},
   "outputs": [],
   "source": [
    "def drop_tables(cur,conn):\n",
    "    for query in drop_table_queries:\n",
    "        cur.execute(query)\n",
    "        conn.commit()"
   ]
  },
  {
   "cell_type": "code",
   "execution_count": null,
   "metadata": {},
   "outputs": [],
   "source": [
    "def create_tables(cur,conn):\n",
    "    for query in create_table_queries:\n",
    "        cur.execute(query)\n",
    "        conn.commit()"
   ]
  },
  {
   "cell_type": "code",
   "execution_count": null,
   "metadata": {},
   "outputs": [],
   "source": [
    "#Create Dataframe\n",
    "country_data = pd.read_csv(\"country_profile_variables.csv\")"
   ]
  },
  {
   "cell_type": "code",
   "execution_count": null,
   "metadata": {},
   "outputs": [],
   "source": [
    "country_data.head()"
   ]
  },
  {
   "cell_type": "code",
   "execution_count": null,
   "metadata": {},
   "outputs": [],
   "source": [
    "#List all columns\n",
    "column_headers = list(country_data.columns.values)\n",
    "print(column_headers)"
   ]
  },
  {
   "cell_type": "code",
   "execution_count": null,
   "metadata": {},
   "outputs": [],
   "source": [
    "#Select certain columns you wish to keep \n",
    "\n",
    "country_data_clean = country_data[['country', 'Region', 'Surface area (km2)']]"
   ]
  },
  {
   "cell_type": "code",
   "execution_count": null,
   "metadata": {},
   "outputs": [],
   "source": [
    "country_data_clean.head()"
   ]
  },
  {
   "cell_type": "code",
   "execution_count": null,
   "metadata": {},
   "outputs": [],
   "source": [
    "country_data_clean = country_data_clean.rename(columns={'country':'Country Name'})"
   ]
  },
  {
   "cell_type": "code",
   "execution_count": null,
   "metadata": {},
   "outputs": [],
   "source": [
    "country_data_clean.columns"
   ]
  },
  {
   "cell_type": "code",
   "execution_count": null,
   "metadata": {},
   "outputs": [],
   "source": [
    "#Load in second dataset - Country heights.\n",
    "\n",
    "country_height = pd.read_csv(\"country_height_data.csv\")\n",
    "\n"
   ]
  },
  {
   "cell_type": "code",
   "execution_count": null,
   "metadata": {},
   "outputs": [],
   "source": [
    "country_height.columns"
   ]
  },
  {
   "cell_type": "code",
   "execution_count": null,
   "metadata": {},
   "outputs": [],
   "source": [
    "country_height = country_height[['Country Name','Male Height in Ft', 'Female Height in Ft']]"
   ]
  },
  {
   "cell_type": "code",
   "execution_count": null,
   "metadata": {},
   "outputs": [],
   "source": [
    "country_height.head()"
   ]
  },
  {
   "cell_type": "code",
   "execution_count": null,
   "metadata": {},
   "outputs": [],
   "source": [
    "country_death_causes = pd.read_csv(\"country_death_causes.csv\")"
   ]
  },
  {
   "cell_type": "code",
   "execution_count": null,
   "metadata": {},
   "outputs": [],
   "source": [
    "country_death_causes.columns"
   ]
  },
  {
   "cell_type": "code",
   "execution_count": null,
   "metadata": {},
   "outputs": [],
   "source": [
    "country_death_causes = country_death_causes[['Country Name', 'Covid-19 Deaths','Meningitis ', 'Malaria ','HIV/AIDS','Tuberculosis']]"
   ]
  },
  {
   "cell_type": "code",
   "execution_count": null,
   "metadata": {},
   "outputs": [],
   "source": [
    "country_death_causes.head()"
   ]
  },
  {
   "cell_type": "code",
   "execution_count": null,
   "metadata": {},
   "outputs": [],
   "source": [
    "##Create Database \"Countries\"\n",
    "\n",
    "cur, conn = create_database()"
   ]
  },
  {
   "cell_type": "code",
   "execution_count": null,
   "metadata": {},
   "outputs": [],
   "source": [
    "#Create first table - country data.\n",
    "#'Region', 'Surface area (km2)\n",
    "country_data_table_create = (\"\"\"CREATE TABLE IF NOT EXISTS countrydata(\n",
    "Country_Name VARCHAR PRIMARY KEY,\n",
    "REGION VARCHAR,\n",
    "SURFACE_AREA FLOAT\n",
    ")\"\"\")\n",
    "\n"
   ]
  },
  {
   "cell_type": "code",
   "execution_count": 22,
   "metadata": {},
   "outputs": [],
   "source": [
    "cur.execute(country_data_table_create)\n",
    "conn.commit()"
   ]
  },
  {
   "cell_type": "code",
   "execution_count": 23,
   "metadata": {},
   "outputs": [],
   "source": [
    "#Create second table - country height data\n",
    "country_height_table_create = (\"\"\"CREATE TABLE IF NOT EXISTS countryheight(\n",
    "Country_Name VARCHAR,\n",
    "Male_Height_in_Ft INT,\n",
    "Female_Height_in_Ft INT )\"\"\")\n",
    "\n",
    "cur.execute(country_height_table_create)\n",
    "conn.commit()"
   ]
  },
  {
   "cell_type": "code",
   "execution_count": 24,
   "metadata": {},
   "outputs": [],
   "source": [
    "#Create third table - country death causes\n",
    "country_death_table_create = (\"\"\"CREATE TABLE IF NOT EXISTS countrydeaths(\n",
    "Country_Name VARCHAR,\n",
    "Covid19_Deaths INT,\n",
    "Meningitis INT,\n",
    "Malaria INT, \n",
    "HIV_AIDS INT,\n",
    "Tuberculosis INT\n",
    " )\"\"\")\n",
    "\n",
    "cur.execute(country_death_table_create)\n",
    "conn.commit()"
   ]
  },
  {
   "cell_type": "code",
   "execution_count": 25,
   "metadata": {},
   "outputs": [],
   "source": [
    "#Insert data in tables\n",
    "\n",
    "country_data_table_insert = (\"\"\"INSERT INTO countrydata(\n",
    "Country_Name,\n",
    "REGION,\n",
    "SURFACE_AREA)\n",
    "VALUES (%s, %s, %s)\n",
    "\"\"\")"
   ]
  },
  {
   "cell_type": "code",
   "execution_count": 26,
   "metadata": {},
   "outputs": [
    {
     "ename": "InvalidTextRepresentation",
     "evalue": "invalid input syntax for type double precision: \"~0\"\nLINE 5: VALUES ('Holy See', 'SouthernEurope', '~0')\n                                              ^\n",
     "output_type": "error",
     "traceback": [
      "\u001b[1;31m---------------------------------------------------------------------------\u001b[0m",
      "\u001b[1;31mInvalidTextRepresentation\u001b[0m                 Traceback (most recent call last)",
      "\u001b[1;32m<ipython-input-26-653d036970c5>\u001b[0m in \u001b[0;36m<module>\u001b[1;34m\u001b[0m\n\u001b[0;32m      3\u001b[0m \u001b[1;33m\u001b[0m\u001b[0m\n\u001b[0;32m      4\u001b[0m \u001b[1;32mfor\u001b[0m \u001b[0mi\u001b[0m\u001b[1;33m,\u001b[0m \u001b[0mrow\u001b[0m \u001b[1;32min\u001b[0m \u001b[0mcountry_data_clean\u001b[0m\u001b[1;33m.\u001b[0m\u001b[0miterrows\u001b[0m\u001b[1;33m(\u001b[0m\u001b[1;33m)\u001b[0m\u001b[1;33m:\u001b[0m\u001b[1;33m\u001b[0m\u001b[1;33m\u001b[0m\u001b[0m\n\u001b[1;32m----> 5\u001b[1;33m     \u001b[0mcur\u001b[0m\u001b[1;33m.\u001b[0m\u001b[0mexecute\u001b[0m\u001b[1;33m(\u001b[0m\u001b[0mcountry_data_table_insert\u001b[0m\u001b[1;33m,\u001b[0m \u001b[0mlist\u001b[0m\u001b[1;33m(\u001b[0m\u001b[0mrow\u001b[0m\u001b[1;33m)\u001b[0m\u001b[1;33m)\u001b[0m\u001b[1;33m\u001b[0m\u001b[1;33m\u001b[0m\u001b[0m\n\u001b[0m",
      "\u001b[1;31mInvalidTextRepresentation\u001b[0m: invalid input syntax for type double precision: \"~0\"\nLINE 5: VALUES ('Holy See', 'SouthernEurope', '~0')\n                                              ^\n"
     ]
    }
   ],
   "source": [
    "##Having issues with the datatypes in this table\n",
    "# Need to simplify the dataset. Looks like its the GDP growth rate column giving it problems.\n",
    "\n",
    "for i, row in country_data_clean.iterrows():\n",
    "    cur.execute(country_data_table_insert, list(row))"
   ]
  },
  {
   "cell_type": "code",
   "execution_count": null,
   "metadata": {},
   "outputs": [],
   "source": []
  }
 ],
 "metadata": {
  "kernelspec": {
   "display_name": "base",
   "language": "python",
   "name": "python3"
  },
  "language_info": {
   "codemirror_mode": {
    "name": "ipython",
    "version": 3
   },
   "file_extension": ".py",
   "mimetype": "text/x-python",
   "name": "python",
   "nbconvert_exporter": "python",
   "pygments_lexer": "ipython3",
   "version": "3.8.5 (default, Sep  3 2020, 21:29:08) [MSC v.1916 64 bit (AMD64)]"
  },
  "orig_nbformat": 4,
  "vscode": {
   "interpreter": {
    "hash": "9f3898b23b7a6e90e0f58791ca25d398771efd3c65d9464e06b7f562b51615dc"
   }
  }
 },
 "nbformat": 4,
 "nbformat_minor": 2
}
